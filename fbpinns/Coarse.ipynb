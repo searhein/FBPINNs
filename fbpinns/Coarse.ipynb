{
 "cells": [
  {
   "cell_type": "markdown",
   "id": "244c6dda",
   "metadata": {},
   "source": [
    "# Coarse solver example\n",
    "\n",
    "This example solves the multi-scale cos problem by pretraining a single network over the full domain before fixing its weights and adding it effectively as another network in the FBPINN ansatz summation whilst training the FBPINN."
   ]
  },
  {
   "cell_type": "code",
   "execution_count": null,
   "id": "4d7e0f46",
   "metadata": {},
   "outputs": [],
   "source": [
    "import sys\n",
    "\n",
    "import numpy as np\n",
    "\n",
    "import problems\n",
    "from active_schedulers import _ActiveScheduler\n",
    "from constants import Constants, get_subdomain_xs, get_subdomain_ws\n",
    "from main import FBPINNTrainer, PINNTrainer\n",
    "from trainersBase import train_models_multiprocess"
   ]
  },
  {
   "cell_type": "code",
   "execution_count": null,
   "id": "8d15e509",
   "metadata": {},
   "outputs": [],
   "source": [
    "# define custom active scheduler\n",
    "\n",
    "class CoarseStartSchedulerND(_ActiveScheduler):\n",
    "    \"All models are active all of the time\"\n",
    "    \n",
    "    name = \"All\"\n",
    "    \n",
    "    def __iter__(self):\n",
    "        \n",
    "        n_pretrain = 3000\n",
    "        assert n_pretrain <= self.N_STEPS\n",
    "        \n",
    "        # First, pre-train coarse model\n",
    "        for i in range(n_pretrain):\n",
    "            if i == 0: yield np.zeros(self.nm, dtype=int), 1# 1 means coarse model is \"active\"\n",
    "            else: yield None\n",
    "        \n",
    "        # Then, set coarse model to fixed and train subdomain networks\n",
    "        for i in range(self.N_STEPS-n_pretrain):\n",
    "            if i == 0: yield np.ones(self.nm, dtype=int), 2# 2 means coarse model is \"fixed\"\n",
    "            else: yield None\n",
    "                \n",
    "                "
   ]
  },
  {
   "cell_type": "code",
   "execution_count": null,
   "id": "797b1ebf",
   "metadata": {
    "scrolled": false
   },
   "outputs": [],
   "source": [
    "# Cos multi w1=1 w2=15\n",
    "P = problems.Cos_multi1D_1(w1=1, w2=15, A=0)\n",
    "subdomain_xs = get_subdomain_xs([np.array([2,]*30)], [2*np.pi])\n",
    "boundary_n = (1/P.w2,)\n",
    "y_n = (0,2)\n",
    "batch_size = (3000,)\n",
    "batch_size_test = (5000,)\n",
    "n_steps = 5000\n",
    "n_hidden, n_layers = 16, 2\n",
    "width = 0.7\n",
    "subdomain_ws = get_subdomain_ws(subdomain_xs, width)\n",
    "A = CoarseStartSchedulerND\n",
    "args = ()\n",
    "plot_lims = (1.1, False)\n",
    "random = False\n",
    "\n",
    "sampler = \"r\" if random else \"m\"\n",
    "c = Constants(\n",
    "              RUN=\"final_FBPINN_%s_%sh_%sl_%sb_%s_%sw_%s\"%(P.name, n_hidden, n_layers, batch_size[0], sampler, width, A.name),\n",
    "              P=P,\n",
    "              SUBDOMAIN_XS=subdomain_xs,\n",
    "              SUBDOMAIN_WS=subdomain_ws,\n",
    "              BOUNDARY_N=boundary_n,\n",
    "              Y_N=y_n,\n",
    "              ACTIVE_SCHEDULER=A,\n",
    "              ACTIVE_SCHEDULER_ARGS=args,\n",
    "              N_HIDDEN=n_hidden,\n",
    "              N_LAYERS=n_layers,\n",
    "              BATCH_SIZE=batch_size,\n",
    "              RANDOM=random,\n",
    "              N_STEPS=n_steps,\n",
    "              BATCH_SIZE_TEST=batch_size_test,\n",
    "              PLOT_LIMS=plot_lims,\n",
    "              TEST_FREQ=1000,\n",
    "              SHOW_FIGURES=True,\n",
    "              CLEAR_OUTPUT=True,\n",
    "              SAVE_FIGURES=True,\n",
    "              )\n",
    "\n",
    "run = FBPINNTrainer(c)\n",
    "run.train()"
   ]
  },
  {
   "cell_type": "code",
   "execution_count": null,
   "id": "a7aeb827",
   "metadata": {},
   "outputs": [],
   "source": []
  }
 ],
 "metadata": {
  "kernelspec": {
   "display_name": "Python 3 (ipykernel)",
   "language": "python",
   "name": "python3"
  },
  "language_info": {
   "codemirror_mode": {
    "name": "ipython",
    "version": 3
   },
   "file_extension": ".py",
   "mimetype": "text/x-python",
   "name": "python",
   "nbconvert_exporter": "python",
   "pygments_lexer": "ipython3",
   "version": "3.9.12"
  }
 },
 "nbformat": 4,
 "nbformat_minor": 5
}
